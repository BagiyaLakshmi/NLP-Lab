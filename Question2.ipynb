{
 "cells": [
  {
   "cell_type": "markdown",
   "id": "9f916f4f-b2cd-4cfe-962e-331729b2b391",
   "metadata": {},
   "source": [
    "### Build a language generation model that can generate headline for the given input document. (Perform syntactic and semantic analysis on the input)"
   ]
  },
  {
   "cell_type": "code",
   "execution_count": 5,
   "id": "efd5eec9-aa47-4d49-bee5-2354ba9fe1df",
   "metadata": {},
   "outputs": [
    {
     "name": "stdout",
     "output_type": "stream",
     "text": [
      "Keywords: ['scientists', 'have', 'discovered', 'a', 'new', 'species', 'of', 'frog', 'in', 'the', 'amazon', 'rainforest', 'the', 'frog', 'named', 'amazonia', 'emeraldensis', 'has', 'bright', 'green', 'skin', 'and', 'a', 'distinctive', 'croak', 'this', 'discovery', 'sheds', 'light', 'on', 'the', 'biodiversity', 'of', 'the', 'region', 'and', 'highlights', 'the', 'importance', 'of', 'conservation', 'efforts', 'in', 'the', 'amazon']\n"
     ]
    },
    {
     "name": "stderr",
     "output_type": "stream",
     "text": [
      "[nltk_data] Downloading package punkt to /home/bagiya/nltk_data...\n",
      "[nltk_data]   Package punkt is already up-to-date!\n",
      "[nltk_data] Downloading package stopwords to /home/bagiya/nltk_data...\n",
      "[nltk_data]   Package stopwords is already up-to-date!\n"
     ]
    }
   ],
   "source": [
    "import re\n",
    "import nltk\n",
    "from nltk.tokenize import word_tokenize, sent_tokenize\n",
    "from nltk.corpus import stopwords\n",
    "from collections import Counter\n",
    "\n",
    "nltk.download('punkt')\n",
    "nltk.download('stopwords')\n",
    "\n",
    "def preprocess_document(document):\n",
    "    # Basic preprocessing: lowercasing and removing non-alphanumeric characters\n",
    "    document = document.lower()\n",
    "    document = re.sub(r'[^a-zA-Z0-9\\s]', '', document)\n",
    "    return document\n",
    "\n",
    "def extract_keywords_textrank(document, top_n=5):\n",
    "    # Preprocess the document\n",
    "    preprocessed_document = preprocess_document(document)\n",
    "\n",
    "    # Tokenize the document into words\n",
    "    words = word_tokenize(preprocessed_document)\n",
    "\n",
    "    # Remove stopwords\n",
    "    stop_words = set(stopwords.words('english'))\n",
    "    words = [word for word in words if word not in stop_words]\n",
    "\n",
    "    # Calculate word frequencies\n",
    "    word_freq = Counter(words)\n",
    "\n",
    "    # Tokenize the document into sentences\n",
    "    sentences = sent_tokenize(preprocessed_document)\n",
    "\n",
    "    # Calculate sentence scores based on word frequencies\n",
    "    sentence_scores = {sentence: sum(word_freq[word] for word in word_tokenize(sentence)) for sentence in sentences}\n",
    "\n",
    "    # Sort sentences by score and get top sentences\n",
    "    top_sentences = sorted(sentence_scores.items(), key=lambda x: x[1], reverse=True)[:top_n]\n",
    "\n",
    "    # Extract keywords from top sentences\n",
    "    keywords = [word for sentence, score in top_sentences for word in word_tokenize(sentence)]\n",
    "\n",
    "    return keywords\n",
    "\n",
    "# Example input document\n",
    "input_document = \"\"\"\n",
    "Scientists have discovered a new species of frog in the Amazon rainforest. The frog, named \"Amazonia Emeraldensis\", has bright green skin and a distinctive croak. This discovery sheds light on the biodiversity of the region and highlights the importance of conservation efforts in the Amazon.\n",
    "\"\"\"\n",
    "\n",
    "# Extract keywords using TextRank\n",
    "keywords = extract_keywords_textrank(input_document)\n",
    "\n",
    "print(\"Keywords:\", keywords)\n"
   ]
  },
  {
   "cell_type": "code",
   "execution_count": null,
   "id": "30b4be2f-d739-4c86-aac6-ae12c9012a54",
   "metadata": {},
   "outputs": [],
   "source": [
    "def generate_headline(keywords, model, tokenizer, max_sequence_len):\n",
    "  \"\"\"\n",
    "  Generates a headline based on a list of keywords using the LSTM model.\n",
    "\n",
    "  Args:\n",
    "      keywords: A list of keywords representing the key points of the document.\n",
    "      model: The trained LSTM model for text generation.\n",
    "      tokenizer: The tokenizer object used for text processing.\n",
    "      max_sequence_len: Maximum sequence length for the model.\n",
    "\n",
    "  Returns:\n",
    "      A generated headline string.\n",
    "  \"\"\"\n",
    "\n",
    "  # Combine keywords with a separator for context\n",
    "  seed_text = \" \".join(keywords)\n",
    "\n",
    "  # Generate text using the function you provided\n",
    "  generated_text = generate_text(seed_text, next_words=10, model=model, max_sequence_len=max_sequence_len)  # Adjust next_words as needed\n",
    "\n",
    "  # Extract the first sentence as the headline (assuming generated text is a sentence)\n",
    "  headline = generated_text.split(\".\")[0].strip()\n",
    "\n",
    "  return headline.capitalize()\n",
    "\n",
    "# Assuming you have a function `extract_keywords(text)` to get keywords from text\n",
    "text = \"...\"  # Replace with your text data\n",
    "keywords = extract_keywords(text)\n",
    "\n",
    "# ... (Load your trained LSTM model and tokenizer)\n",
    "\n",
    "generated_headline = generate_headline(keywords, model, tokenizer, max_sequence_len)\n",
    "\n",
    "print(f\"Input Text keywords: {keywords}\")\n",
    "print(f\"Generated Headline: {generated_headline}\")"
   ]
  },
  {
   "cell_type": "code",
   "execution_count": 6,
   "id": "2a621b15-4aed-4d7e-8998-24cf44142e65",
   "metadata": {},
   "outputs": [
    {
     "name": "stderr",
     "output_type": "stream",
     "text": [
      "[nltk_data] Downloading package punkt to /home/bagiya/nltk_data...\n",
      "[nltk_data]   Package punkt is already up-to-date!\n",
      "[nltk_data] Downloading package stopwords to /home/bagiya/nltk_data...\n",
      "[nltk_data]   Package stopwords is already up-to-date!\n"
     ]
    },
    {
     "name": "stdout",
     "output_type": "stream",
     "text": [
      "Generated Headline: Natural language processing\n"
     ]
    }
   ],
   "source": [
    "import nltk\n",
    "from nltk.tokenize import word_tokenize\n",
    "from nltk.corpus import stopwords\n",
    "import spacy\n",
    "\n",
    "# Download necessary NLTK resources\n",
    "nltk.download('punkt')\n",
    "nltk.download('stopwords')\n",
    "\n",
    "# Load English tokenizer, tagger, parser, NER, and stop words\n",
    "nlp = spacy.load(\"en_core_web_sm\")\n",
    "stop_words = set(stopwords.words('english'))\n",
    "\n",
    "def preprocess_text(text):\n",
    "    # Tokenize the text\n",
    "    tokens = word_tokenize(text.lower())\n",
    "    # Remove stopwords and punctuation\n",
    "    cleaned_tokens = [token for token in tokens if token.isalnum() and token not in stop_words]\n",
    "    return ' '.join(cleaned_tokens)\n",
    "\n",
    "def generate_headline(input_text):\n",
    "    # Preprocess input text\n",
    "    preprocessed_text = preprocess_text(input_text)\n",
    "    \n",
    "    # Perform semantic analysis\n",
    "    doc = nlp(preprocessed_text)\n",
    "    \n",
    "    # Extract important entities\n",
    "    entities = [entity.text for entity in doc.ents]\n",
    "    \n",
    "    # Extract keywords or important phrases\n",
    "    keywords = [token.text for token in doc if not token.is_stop and token.pos_ != 'PUNCT']\n",
    "    \n",
    "    # Generate headline based on extracted entities and keywords\n",
    "    headline = \" \".join(entities[:3]) + \" \".join(keywords[:3])\n",
    "    \n",
    "    return headline.capitalize()\n",
    "\n",
    "# Example input document\n",
    "input_document = \"\"\"\n",
    "    Natural language processing (NLP) is a subfield of linguistics, \n",
    "    computer science, and artificial intelligence concerned with the interactions \n",
    "    between computers and human language, in particular how to program computers \n",
    "    to process and analyze large amounts of natural language data.\n",
    "\"\"\"\n",
    "\n",
    "# Generate headline for the input document\n",
    "headline = generate_headline(input_document)\n",
    "print(\"Generated Headline:\", headline)"
   ]
  },
  {
   "cell_type": "code",
   "execution_count": null,
   "id": "8282869f-d421-4db5-9e19-add1c3045e1b",
   "metadata": {},
   "outputs": [],
   "source": []
  }
 ],
 "metadata": {
  "kernelspec": {
   "display_name": "Python 3 (ipykernel)",
   "language": "python",
   "name": "python3"
  },
  "language_info": {
   "codemirror_mode": {
    "name": "ipython",
    "version": 3
   },
   "file_extension": ".py",
   "mimetype": "text/x-python",
   "name": "python",
   "nbconvert_exporter": "python",
   "pygments_lexer": "ipython3",
   "version": "3.9.18"
  }
 },
 "nbformat": 4,
 "nbformat_minor": 5
}
